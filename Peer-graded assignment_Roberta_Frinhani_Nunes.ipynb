{
  "metadata": {
    "language_info": {
      "codemirror_mode": {
        "name": "python",
        "version": 3
      },
      "file_extension": ".py",
      "mimetype": "text/x-python",
      "name": "python",
      "nbconvert_exporter": "python",
      "pygments_lexer": "ipython3",
      "version": "3.8"
    },
    "kernelspec": {
      "name": "python",
      "display_name": "Python (Pyodide)",
      "language": "python"
    }
  },
  "nbformat_minor": 4,
  "nbformat": 4,
  "cells": [
    {
      "cell_type": "markdown",
      "source": "# My Jupyter Notebook on IBM Watson Studio",
      "metadata": {}
    },
    {
      "cell_type": "markdown",
      "source": "**Roberta Frinhani Nunes**",
      "metadata": {}
    },
    {
      "cell_type": "markdown",
      "source": "_I am interested in data science because it is a wonderful and challenging topic_",
      "metadata": {}
    },
    {
      "cell_type": "markdown",
      "source": "### My code will determine the molecular weight of H2O.",
      "metadata": {}
    },
    {
      "cell_type": "markdown",
      "source": "H = 1\nO = 16\nTotal = 2*H + O\nprint(Total)",
      "metadata": {}
    },
    {
      "cell_type": "markdown",
      "source": "# Components of the water:\n- H and \n- O; \n\n# Individual molar mass (g/mol):\n| H | O | \n| --- | --- | \n| 1 | 16 |\n\n# To see the water molecule, click on the following link:\n\n[wikipedia](https://pt.wikipedia.org/wiki/Ficheiro:Water_molecule_3D.svg)",
      "metadata": {}
    },
    {
      "cell_type": "code",
      "source": "",
      "metadata": {},
      "execution_count": null,
      "outputs": []
    }
  ]
}